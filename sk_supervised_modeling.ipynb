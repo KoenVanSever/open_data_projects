{
 "cells": [
  {
   "cell_type": "markdown",
   "metadata": {},
   "source": [
    "## Imports and config"
   ]
  },
  {
   "cell_type": "code",
   "execution_count": 12,
   "metadata": {},
   "outputs": [],
   "source": [
    "import sklearn.datasets\n",
    "from sklearn import linear_model\n",
    "from sklearn.model_selection import train_test_split\n",
    "mpl.style.use(\"ggplot_updated.mplstyle\") # default style has 12x10 inches\n",
    "mpl.rcParams[\"figure.figsize\"] = 6,4 # smaller graphs are fine in this project"
   ]
  },
  {
   "cell_type": "markdown",
   "metadata": {},
   "source": [
    "## Load data"
   ]
  },
  {
   "cell_type": "code",
   "execution_count": 8,
   "metadata": {},
   "outputs": [],
   "source": [
    "# data, target = sklearn.datasets.load_diabetes(return_X_y = True, as_frame = True) # test set (not real data)\n",
    "temp = pd.read_csv(\"https://www4.stat.ncsu.edu/~boos/var.select/diabetes.tab.txt\", delimiter = \"\\t\")\n",
    "data = temp.drop([\"Y\"], axis = 1).convert_dtypes()\n",
    "data.columns = data.columns.map(lambda x: x.lower())\n",
    "target = temp.Y\n",
    "###    to print description of features:\n",
    "# bunch = sklearn.datasets.load_diabetes()\n",
    "# print(bunch[\"DESCR\"])"
   ]
  },
  {
   "cell_type": "markdown",
   "metadata": {},
   "source": [
    "### Dataset information\n",
    "Initial dataset with 10 features taken from 442 diabetes patients:\n",
    "- age: patient's age in years\n",
    "- sex: patient's sex\n",
    "- bmi: patient's Body Mass Index\n",
    "- bp: patient's average blood pressure\n",
    "- s1: patient's T-cells\n",
    "- s2: patient's ldl\n",
    "- s3: patient's hdl\n",
    "- s4: patient's tch\n",
    "- s5: patient's ltg\n",
    "- s6: patient's glu\n",
    "Target value are represented in diseases' progression after one year of this baseline"
   ]
  },
  {
   "cell_type": "markdown",
   "metadata": {},
   "source": [
    "### Descriptive stats of initial dataset"
   ]
  },
  {
   "cell_type": "code",
   "execution_count": 9,
   "metadata": {},
   "outputs": [
    {
     "data": {
      "text/html": [
       "<div>\n",
       "<style scoped>\n",
       "    .dataframe tbody tr th:only-of-type {\n",
       "        vertical-align: middle;\n",
       "    }\n",
       "\n",
       "    .dataframe tbody tr th {\n",
       "        vertical-align: top;\n",
       "    }\n",
       "\n",
       "    .dataframe thead th {\n",
       "        text-align: right;\n",
       "    }\n",
       "</style>\n",
       "<table border=\"1\" class=\"dataframe\">\n",
       "  <thead>\n",
       "    <tr style=\"text-align: right;\">\n",
       "      <th></th>\n",
       "      <th>age</th>\n",
       "      <th>sex</th>\n",
       "      <th>bmi</th>\n",
       "      <th>bp</th>\n",
       "      <th>s1</th>\n",
       "      <th>s2</th>\n",
       "      <th>s3</th>\n",
       "      <th>s4</th>\n",
       "      <th>s5</th>\n",
       "      <th>s6</th>\n",
       "    </tr>\n",
       "  </thead>\n",
       "  <tbody>\n",
       "    <tr>\n",
       "      <th>count</th>\n",
       "      <td>442.000000</td>\n",
       "      <td>442.000000</td>\n",
       "      <td>442.000000</td>\n",
       "      <td>442.000000</td>\n",
       "      <td>442.000000</td>\n",
       "      <td>442.000000</td>\n",
       "      <td>442.000000</td>\n",
       "      <td>442.000000</td>\n",
       "      <td>442.000000</td>\n",
       "      <td>442.000000</td>\n",
       "    </tr>\n",
       "    <tr>\n",
       "      <th>mean</th>\n",
       "      <td>48.518100</td>\n",
       "      <td>1.468326</td>\n",
       "      <td>26.375792</td>\n",
       "      <td>94.647014</td>\n",
       "      <td>189.140271</td>\n",
       "      <td>115.439140</td>\n",
       "      <td>49.788462</td>\n",
       "      <td>4.070249</td>\n",
       "      <td>4.641411</td>\n",
       "      <td>91.260181</td>\n",
       "    </tr>\n",
       "    <tr>\n",
       "      <th>std</th>\n",
       "      <td>13.109028</td>\n",
       "      <td>0.499561</td>\n",
       "      <td>4.418122</td>\n",
       "      <td>13.831283</td>\n",
       "      <td>34.608052</td>\n",
       "      <td>30.413081</td>\n",
       "      <td>12.934202</td>\n",
       "      <td>1.290450</td>\n",
       "      <td>0.522391</td>\n",
       "      <td>11.496335</td>\n",
       "    </tr>\n",
       "    <tr>\n",
       "      <th>min</th>\n",
       "      <td>19.000000</td>\n",
       "      <td>1.000000</td>\n",
       "      <td>18.000000</td>\n",
       "      <td>62.000000</td>\n",
       "      <td>97.000000</td>\n",
       "      <td>41.600000</td>\n",
       "      <td>22.000000</td>\n",
       "      <td>2.000000</td>\n",
       "      <td>3.258100</td>\n",
       "      <td>58.000000</td>\n",
       "    </tr>\n",
       "    <tr>\n",
       "      <th>25%</th>\n",
       "      <td>38.250000</td>\n",
       "      <td>1.000000</td>\n",
       "      <td>23.200000</td>\n",
       "      <td>84.000000</td>\n",
       "      <td>164.250000</td>\n",
       "      <td>96.050000</td>\n",
       "      <td>40.250000</td>\n",
       "      <td>3.000000</td>\n",
       "      <td>4.276700</td>\n",
       "      <td>83.250000</td>\n",
       "    </tr>\n",
       "    <tr>\n",
       "      <th>50%</th>\n",
       "      <td>50.000000</td>\n",
       "      <td>1.000000</td>\n",
       "      <td>25.700000</td>\n",
       "      <td>93.000000</td>\n",
       "      <td>186.000000</td>\n",
       "      <td>113.000000</td>\n",
       "      <td>48.000000</td>\n",
       "      <td>4.000000</td>\n",
       "      <td>4.620050</td>\n",
       "      <td>91.000000</td>\n",
       "    </tr>\n",
       "    <tr>\n",
       "      <th>75%</th>\n",
       "      <td>59.000000</td>\n",
       "      <td>2.000000</td>\n",
       "      <td>29.275000</td>\n",
       "      <td>105.000000</td>\n",
       "      <td>209.750000</td>\n",
       "      <td>134.500000</td>\n",
       "      <td>57.750000</td>\n",
       "      <td>5.000000</td>\n",
       "      <td>4.997200</td>\n",
       "      <td>98.000000</td>\n",
       "    </tr>\n",
       "    <tr>\n",
       "      <th>max</th>\n",
       "      <td>79.000000</td>\n",
       "      <td>2.000000</td>\n",
       "      <td>42.200000</td>\n",
       "      <td>133.000000</td>\n",
       "      <td>301.000000</td>\n",
       "      <td>242.400000</td>\n",
       "      <td>99.000000</td>\n",
       "      <td>9.090000</td>\n",
       "      <td>6.107000</td>\n",
       "      <td>124.000000</td>\n",
       "    </tr>\n",
       "  </tbody>\n",
       "</table>\n",
       "</div>"
      ],
      "text/plain": [
       "              age         sex         bmi          bp          s1          s2  \\\n",
       "count  442.000000  442.000000  442.000000  442.000000  442.000000  442.000000   \n",
       "mean    48.518100    1.468326   26.375792   94.647014  189.140271  115.439140   \n",
       "std     13.109028    0.499561    4.418122   13.831283   34.608052   30.413081   \n",
       "min     19.000000    1.000000   18.000000   62.000000   97.000000   41.600000   \n",
       "25%     38.250000    1.000000   23.200000   84.000000  164.250000   96.050000   \n",
       "50%     50.000000    1.000000   25.700000   93.000000  186.000000  113.000000   \n",
       "75%     59.000000    2.000000   29.275000  105.000000  209.750000  134.500000   \n",
       "max     79.000000    2.000000   42.200000  133.000000  301.000000  242.400000   \n",
       "\n",
       "               s3          s4          s5          s6  \n",
       "count  442.000000  442.000000  442.000000  442.000000  \n",
       "mean    49.788462    4.070249    4.641411   91.260181  \n",
       "std     12.934202    1.290450    0.522391   11.496335  \n",
       "min     22.000000    2.000000    3.258100   58.000000  \n",
       "25%     40.250000    3.000000    4.276700   83.250000  \n",
       "50%     48.000000    4.000000    4.620050   91.000000  \n",
       "75%     57.750000    5.000000    4.997200   98.000000  \n",
       "max     99.000000    9.090000    6.107000  124.000000  "
      ]
     },
     "execution_count": 9,
     "metadata": {},
     "output_type": "execute_result"
    }
   ],
   "source": [
    "data.describe()\n",
    "# data.dtypes\n",
    "# data"
   ]
  },
  {
   "cell_type": "markdown",
   "metadata": {},
   "source": [
    "## Modelling testing"
   ]
  },
  {
   "cell_type": "markdown",
   "metadata": {},
   "source": [
    "### Linear Regression"
   ]
  },
  {
   "cell_type": "markdown",
   "metadata": {},
   "source": [
    "Quick test:"
   ]
  },
  {
   "cell_type": "code",
   "execution_count": 23,
   "metadata": {},
   "outputs": [
    {
     "name": "stdout",
     "output_type": "stream",
     "text": [
      "Full set regression:\n",
      "\tIntercept:  -334.56713851878703\n",
      "\tage-coefficient: -0.03636122422362417\n",
      "\tsex-coefficient: -22.85964809049839\n",
      "\tbmi-coefficient: 5.602962091923697\n",
      "\tbp-coefficient: 1.11680799331819\n",
      "\ts1-coefficient: -1.0899963340632226\n",
      "\ts2-coefficient: 0.7464504555142106\n",
      "\ts3-coefficient: 0.3720047150891368\n",
      "\ts4-coefficient: 6.5338319359903405\n",
      "\ts5-coefficient: 68.48312496478832\n",
      "\ts6-coefficient: 0.28011698932149454\n",
      "Score full set:  0.5177484222203498\n"
     ]
    }
   ],
   "source": [
    "regr = linear_model.LinearRegression()\n",
    "regr.fit(data, target)\n",
    "print(\"Full set regression:\")\n",
    "print(\"\\tIntercept: \", regr.intercept_)\n",
    "# one intercept for all\n",
    "for i, coef in enumerate(regr.coef_):\n",
    "    print(f\"\\t{data.columns[i]}-coefficient: {coef}\")\n",
    "# one coefficient for each feature\n",
    "print(f\"Score full set: \", regr.score(data, target)) # coefficient of determination is returned by score (R²)"
   ]
  },
  {
   "cell_type": "markdown",
   "metadata": {},
   "source": [
    "Coëfficient of determination R²: 1-(u/v)<br>\n",
    "with:<br>\n",
    "    u = ((y_true - y_pred)²).sum() (sum of the each difference between predicted value and real value squared)<br>\n",
    "    v = ((y_true - y_true.mean())³).sum() (sum of each real value minus the real mean squared)<br>\n",
    "This coëfficient being 1.0 shows perfect predictions, can be zero if model does the inverse of the results"
   ]
  },
  {
   "cell_type": "code",
   "execution_count": 70,
   "metadata": {},
   "outputs": [
    {
     "name": "stdout",
     "output_type": "stream",
     "text": [
      "Train set regression:\n",
      "\tIntercept:  -308.28672453004145\n",
      "\tage-coefficient: -0.05460955765846675\n",
      "\tsex-coefficient: -25.866155083935336\n",
      "\tbmi-coefficient: 6.062371992443154\n",
      "\tbp-coefficient: 0.9471165179313576\n",
      "\ts1-coefficient: -0.7863898925991712\n",
      "\ts2-coefficient: 0.4490229838159365\n",
      "\ts3-coefficient: -0.021658075944313904\n",
      "\ts4-coefficient: 4.790256554825292\n",
      "\ts5-coefficient: 65.72276537875543\n",
      "\ts6-coefficient: 0.2823662371803133\n",
      "Score test set:  0.34945034427030164\n"
     ]
    }
   ],
   "source": [
    "regr = linear_model.LinearRegression()\n",
    "random_state = None # provide int for repeatable results\n",
    "X_train, X_test, y_train, y_test = train_test_split(data, target, train_size = 0.85, test_size = 0.15, random_state = random_state)\n",
    "regr.fit(X_train, y_train)\n",
    "print(\"Train set regression:\")\n",
    "print(\"\\tIntercept: \", regr.intercept_)\n",
    "for i, coef in enumerate(regr.coef_):\n",
    "    print(f\"\\t{data.columns[i]}-coefficient: {coef}\")\n",
    "print(f\"Score test set: \", regr.score(X_test, y_test)) # random state off --> ranges from 0.20 - 0.64!"
   ]
  },
  {
   "cell_type": "code",
   "execution_count": 55,
   "metadata": {},
   "outputs": [
    {
     "data": {
      "text/plain": [
       "<matplotlib.legend.Legend at 0x7f93c50fe520>"
      ]
     },
     "execution_count": 55,
     "metadata": {},
     "output_type": "execute_result"
    },
    {
     "data": {
      "image/png": "[encoded data removed]",
      "text/plain": [
       "<Figure size 432x288 with 1 Axes>"
      ]
     },
     "metadata": {},
     "output_type": "display_data"
    }
   ],
   "source": [
    "plt.clf()\n",
    "plt.plot([0, 400], [0, 400], color = \"blue\", label = \"ideal prediction line\")\n",
    "plt.scatter(y_test, regr.predict(X_test), color = \"red\", label = \"real value - predict value\")\n",
    "plt.xlabel(\"Real results\")\n",
    "plt.ylabel(\"Predicted results\")\n",
    "plt.legend(loc = \"upper left\")"
   ]
  },
  {
   "cell_type": "code",
   "execution_count": 90,
   "metadata": {},
   "outputs": [
    {
     "data": {
      "text/plain": [
       "<matplotlib.legend.Legend at 0x7f93c52b4520>"
      ]
     },
     "execution_count": 90,
     "metadata": {},
     "output_type": "execute_result"
    },
    {
     "data": {
      "image/png": "[encoded data removed]",
      "text/plain": [
       "<Figure size 432x288 with 1 Axes>"
      ]
     },
     "metadata": {},
     "output_type": "display_data"
    }
   ],
   "source": [
    "regr = linear_model.LinearRegression()\n",
    "hist_res = list()\n",
    "for x in range(0,500):\n",
    "    X_train, X_test, y_train, y_test = train_test_split(data, target, train_size = 0.85, test_size = 0.15, random_state = random_state)\n",
    "    regr.fit(X_train, y_train)\n",
    "    hist_res.append(regr.score(X_test, y_test))\n",
    "plt.clf()\n",
    "plt.hist(hist_res, bins = 25, color = \"#99dde2\", label = \"R² spread\")\n",
    "plt.legend(loc = \"upper left\")\n",
    "# quite some spread --> not enought samples, not enough correlation in general?"
   ]
  },
  {
   "cell_type": "markdown",
   "metadata": {},
   "source": [
    "### Ridge/Lasso Regression"
   ]
  },
  {
   "cell_type": "markdown",
   "metadata": {},
   "source": [
    "Ridge allows you to apply regularization (regularize coefficients to prevent overfitting --> basically punishing complex models), more specifically L2 regulatization.<br>\n",
    "Method: <br>\n",
    "<img src=\"images/ridge-L2regulatization.png\"><br>\n",
    "X = feature data (a x b) <br>\n",
    "w = coëfficients for each feature (b x 1) <br>\n",
    "&alpha; = regularization strength (scalar) <br>\n",
    "a & b = number of samples & number of features <br>\n",
    "So basically you take residual sum of squares (RSS) between predicted values and test values and sum it with a scalar times your coefficients squared, solve to minimum for coëfficients. This last addition is also called the penalty, the bigger your coëfficients are the bigger the penalty.\n",
    "\n",
    "Lasso is also a kind of regularization but it is L1 regularization, this means that the last term is not squared:<br>\n",
    "<img src=\"images/Lasso-L1_Regularization.png\">"
   ]
  },
  {
   "cell_type": "code",
   "execution_count": 161,
   "metadata": {},
   "outputs": [
    {
     "name": "stdout",
     "output_type": "stream",
     "text": [
      "Train set regression:\n",
      "\tIntercept:  -363.2802930821324\n",
      "\tage-coefficient: -0.022781187939337904\n",
      "\tsex-coefficient: -24.801060974263507\n",
      "\tbmi-coefficient: 5.739621097063665\n",
      "\tbp-coefficient: 1.2394526702440447\n",
      "\ts1-coefficient: -1.4787079804542924\n",
      "\ts2-coefficient: 1.0261596946099893\n",
      "\ts3-coefficient: 0.7529191000273878\n",
      "\ts4-coefficient: 8.842249749470128\n",
      "\ts5-coefficient: 72.49732359304072\n",
      "\ts6-coefficient: 0.3878011708291646\n",
      "Score test set:  0.4117451512637559\n"
     ]
    }
   ],
   "source": [
    "regr = linear_model.Ridge(alpha = 0.01)\n",
    "random_state = 8\n",
    "X_train, X_test, y_train, y_test = train_test_split(data, target, train_size = 0.85, test_size = 0.15, random_state = random_state)\n",
    "regr.fit(X_train, y_train)\n",
    "print(\"Train set regression:\")\n",
    "print(\"\\tIntercept: \", regr.intercept_)\n",
    "for i, coef in enumerate(regr.coef_):\n",
    "    print(f\"\\t{data.columns[i]}-coefficient: {coef}\")\n",
    "print(f\"Score test set: \", regr.score(X_test, y_test))"
   ]
  },
  {
   "cell_type": "code",
   "execution_count": 181,
   "metadata": {},
   "outputs": [
    {
     "data": {
      "text/plain": [
       "Text(0, 0.5, 'Coefficient value')"
      ]
     },
     "execution_count": 181,
     "metadata": {},
     "output_type": "execute_result"
    },
    {
     "data": {
      "text/plain": [
       "<Figure size 432x288 with 0 Axes>"
      ]
     },
     "metadata": {},
     "output_type": "display_data"
    },
    {
     "data": {
      "image/png": "[encoded data removed]",
      "text/plain": [
       "<Figure size 432x288 with 1 Axes>"
      ]
     },
     "metadata": {},
     "output_type": "display_data"
    }
   ],
   "source": [
    "random_state = 8\n",
    "X_train, X_test, y_train, y_test = train_test_split(data, target, train_size = 0.85, test_size = 0.15, random_state = random_state)\n",
    "alphas = np.logspace(0,8, 30, base = 10)\n",
    "coefficients = []\n",
    "for x in alphas:\n",
    "    regr = linear_model.Ridge(x)\n",
    "    regr.fit(X_train, y_train)\n",
    "    coefficients.append(regr.coef_)\n",
    "plt.clf()\n",
    "fig, ax = plt.subplots()\n",
    "ax.set_xscale('log')\n",
    "ax.plot(alphas, coefficients)\n",
    "ax.set_xlabel(\"Alpha\")\n",
    "ax.set_ylabel(\"Coefficient value\")\n",
    "# as can be seen bigger alpha value leads to more regularised coefficients (as the penalty gets bigger)"
   ]
  },
  {
   "cell_type": "code",
   "execution_count": null,
   "metadata": {},
   "outputs": [],
   "source": []
  },
  {
   "cell_type": "code",
   "execution_count": null,
   "metadata": {},
   "outputs": [],
   "source": []
  },
  {
   "cell_type": "code",
   "execution_count": null,
   "metadata": {},
   "outputs": [],
   "source": []
  }
 ],
 "metadata": {
  "kernelspec": {
   "display_name": "dataenv",
   "language": "python",
   "name": "dataenv"
  },
  "language_info": {
   "codemirror_mode": {
    "name": "ipython",
    "version": 3
   },
   "file_extension": ".py",
   "mimetype": "text/x-python",
   "name": "python",
   "nbconvert_exporter": "python",
   "pygments_lexer": "ipython3",
   "version": "3.8.5"
  }
 },
 "nbformat": 4,
 "nbformat_minor": 4
}
